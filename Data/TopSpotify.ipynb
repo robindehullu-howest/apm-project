{
 "cells": [
  {
   "cell_type": "markdown",
   "metadata": {},
   "source": [
    "The dataset we will be using is the Top Spotify Songs dataset from Kaggle found at https://www.kaggle.com/datasets/arnavvvvv/spotify-music?resource=download"
   ]
  },
  {
   "cell_type": "markdown",
   "metadata": {},
   "source": [
    "We will begin preparing our dataset by doing the following steps:\n",
    "\n",
    "- Dimensie en beschrijvende statistieken van de dataset analyseren (shape, describe).\n",
    "- Preprocessing stap 2 Lege/null waarden aanvullen of verwijderen.\n",
    "- Preprocessing stap 3 Foutieve data en uitschieters verwijderen.\n",
    "- Preprocessing stap 4 One-hot-encoding toepassen waar nodig.\n",
    "\n",
    "\n",
    "- Plot 1 Heatmap om verbanden vast te stellen\n",
    "- Plot 2 Scatterplot van populariteit per maand en-/of dag van release\n",
    "- Plot 3 Histplot van populariteit per artiest/lied\n",
    "- Plot 4 Scatterplot van populariteit van artiest op Spotify tegenover Apple"
   ]
  },
  {
   "cell_type": "markdown",
   "metadata": {},
   "source": [
    "Preprocessing"
   ]
  },
  {
   "cell_type": "code",
   "execution_count": null,
   "metadata": {},
   "outputs": [],
   "source": []
  }
 ],
 "metadata": {
  "language_info": {
   "name": "python"
  }
 },
 "nbformat": 4,
 "nbformat_minor": 2
}
